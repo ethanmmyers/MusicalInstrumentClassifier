{
 "cells": [
  {
   "cell_type": "code",
   "execution_count": 25,
   "metadata": {},
   "outputs": [],
   "source": [
    "# -*- coding: utf-8 -*-\n",
    "\"\"\"\n",
    "Created on Mon Mar 14 23:26:53 2022\n",
    "\n",
    "@author: ethan\n",
    "\"\"\"\n",
    "import json\n",
    "import math\n",
    "from scipy.io import wavfile\n",
    "import os\n",
    "import matplotlib.pyplot as plt\n",
    "from pathlib import Path\n",
    "import tensorflow as tf\n",
    "import tensorflow_io as tfio\n",
    "import IPython.display as ipd\n",
    "import numpy as np\n",
    "from scipy import signal\n",
    "import pickle\n"
   ]
  },
  {
   "cell_type": "code",
   "execution_count": 38,
   "metadata": {},
   "outputs": [],
   "source": [
    "# define functions to load in data\n",
    "def loadJson(dir):\n",
    "    data_path = dir + \"\\\\examples.json\"\n",
    "    with open(data_path,\"r\") as fp:\n",
    "        data_json = json.load(fp)\n",
    "    return data_json\n",
    "\n",
    "def get_spectrogram(waveform):\n",
    "    frame_length = 512\n",
    "    frame_step = 256\n",
    "    mel_spectrogram = tfio.audio.melscale(tfio.audio.spectrogram(input=tf.cast(waveform, tf.float32), nfft=frame_length, window=frame_length, stride=frame_step), rate=16000, mels=128, fmin=0, fmax=8000)\n",
    "    return mel_spectrogram\n",
    "\n",
    "def loadDataset(datajson, path, ds_range):\n",
    "    ds_size = ds_range[1]-ds_range[0]\n",
    "    instrument_ids = np.zeros(ds_size)\n",
    "    pitch_ids = np.zeros(ds_size)\n",
    "    sxx_log = np.zeros((ds_size,250,128))\n",
    "    idxrange = range(ds_range[0],ds_range[1])\n",
    "    keylist = list(datajson.keys())\n",
    "    for i,j in enumerate(idxrange):\n",
    "        file = keylist[j]\n",
    "        sxx_log[i][:][:] = tfio.audio.dbscale(tf.cast(get_spectrogram(wavfile.read(path + \"\\\\audio\\\\\" + file + \".wav\")[1]),dtype=tf.float32), top_db=80)\n",
    "        instrument_ids[i] = datajson[file][\"instrument_family\"]\n",
    "        pitch_ids[i] = datajson[file][\"pitch\"]\n",
    "    return sxx_log, instrument_ids, pitch_ids\n",
    "    "
   ]
  },
  {
   "cell_type": "code",
   "execution_count": 22,
   "metadata": {},
   "outputs": [],
   "source": [
    "# Open json with all metadata\n",
    "train_dir = os.getcwd() + \"\\\\nsynth-train\"\n",
    "valid_dir = os.getcwd() + \"\\\\nsynth-valid\"\n",
    "test_dir = os.getcwd() + \"\\\\nsynth-test\"\n",
    "\n",
    "train_json = loadJson(train_dir)\n",
    "valid_json = loadJson(valid_dir)\n",
    "test_json = loadJson(test_dir)\n",
    "\n",
    "# human readable labels for data    \n",
    "instrument_names = [\"bass\",\"brass\",\"flute\",\"guitar\",\"keyboard\",\"mallet\",\"organ\",\"reed\",\"string\",\"synth_lead\",\"vocal\"]"
   ]
  },
  {
   "cell_type": "code",
   "execution_count": 39,
   "metadata": {},
   "outputs": [],
   "source": [
    "# load in data sets\n",
    "ds_size_train = 5000\n",
    "ds_range_train = [0,ds_size_train]\n",
    "num_train_sets = math.ceil(len(train_json)/ds_size_train)\n",
    "ds_size_val = len(valid_json)\n",
    "ds_range_val = [0,ds_size_val]\n",
    "ds_size_test = len(test_json)\n",
    "ds_range_test = [0,ds_size_test]\n",
    "\n",
    "#train_set, train_inst_id, _ = loadDataset(train_json,train_dir,ds_range_train)\n",
    "valid_set, valid_inst_id, _ = loadDataset(valid_json,valid_dir,ds_range_val)\n",
    "test_set, test_inst_id, _ = loadDataset(test_json,test_dir,ds_range_test)\n"
   ]
  },
  {
   "cell_type": "code",
   "execution_count": 40,
   "metadata": {},
   "outputs": [],
   "source": [
    "# save the spectrogram sets so we don't have to generate again if we want\n",
    "#with open(valid_dir+\"\\\\valid_set\",\"wb\") as fp:\n",
    "#    pickle.dump((valid_set,valid_inst_id),fp)\n",
    "#with open(test_dir+\"\\\\test_set\",\"wb\") as fp:\n",
    "#    pickle.dump((test_set,test_inst_id),fp)"
   ]
  },
  {
   "cell_type": "code",
   "execution_count": 41,
   "metadata": {},
   "outputs": [
    {
     "data": {
      "image/png": "[encoded data removed]",
      "text/plain": [
       "<Figure size 432x288 with 1 Axes>"
      ]
     },
     "metadata": {
      "needs_background": "light"
     },
     "output_type": "display_data"
    }
   ],
   "source": [
    "# look at a spectrogram\n",
    "plt.figure()\n",
    "plt.imshow(test_set[3][:][:])\n",
    "plt.show()\n"
   ]
  },
  {
   "cell_type": "code",
   "execution_count": 42,
   "metadata": {},
   "outputs": [],
   "source": [
    "# get some parameters for model\n",
    "num_classes = len(instrument_names)\n",
    "img_height = tf.shape(test_set)[1]\n",
    "img_width = tf.shape(test_set)[2]\n",
    "max_val = tf.math.reduce_max(test_set)\n",
    "#max_val = 150\n"
   ]
  },
  {
   "cell_type": "code",
   "execution_count": 43,
   "metadata": {},
   "outputs": [],
   "source": [
    "# make model\n",
    "model = tf.keras.Sequential([\n",
    "  tf.keras.layers.experimental.preprocessing.Rescaling(1./max_val, input_shape=(img_height, img_width,1)),\n",
    "  tf.keras.layers.Conv2D(16, 3, padding='same', activation='relu'),\n",
    "  tf.keras.layers.MaxPooling2D(),\n",
    "  tf.keras.layers.Conv2D(32, 3, padding='same', activation='relu'),\n",
    "  tf.keras.layers.MaxPooling2D(),\n",
    "  tf.keras.layers.Conv2D(64, 3, padding='same', activation='relu'),\n",
    "  tf.keras.layers.MaxPooling2D(),\n",
    "  tf.keras.layers.Flatten(),\n",
    "  tf.keras.layers.Dense(128, activation='relu'),\n",
    "  tf.keras.layers.Dense(num_classes)\n",
    "])\n"
   ]
  },
  {
   "cell_type": "code",
   "execution_count": 44,
   "metadata": {},
   "outputs": [],
   "source": [
    "# set hyperparameters\n",
    "learning_rate = 0.125\n",
    "\n",
    "loss_fn = tf.keras.losses.SparseCategoricalCrossentropy(from_logits=True)\n",
    "optimizer = tf.keras.optimizers.SGD(learning_rate)\n",
    "metrics = ['accuracy']\n",
    "model.compile(optimizer, loss_fn, metrics)\n"
   ]
  },
  {
   "cell_type": "code",
   "execution_count": 45,
   "metadata": {},
   "outputs": [
    {
     "name": "stdout",
     "output_type": "stream",
     "text": [
      "\n",
      "Fitting:\n",
      "Epoch 1/15\n",
      "157/157 [==============================] - 107s 656ms/step - loss: 2.0701 - accuracy: 0.2578 - val_loss: 2.1073 - val_accuracy: 0.1418\n",
      "Epoch 2/15\n",
      "157/157 [==============================] - 79s 507ms/step - loss: 1.6797 - accuracy: 0.3828 - val_loss: 1.6483 - val_accuracy: 0.3745\n",
      "Epoch 3/15\n",
      "157/157 [==============================] - 80s 512ms/step - loss: 1.4187 - accuracy: 0.4912 - val_loss: 1.5087 - val_accuracy: 0.4844\n",
      "Epoch 4/15\n",
      "157/157 [==============================] - 81s 518ms/step - loss: 1.2056 - accuracy: 0.5668 - val_loss: 1.5175 - val_accuracy: 0.5006\n",
      "Epoch 5/15\n",
      "157/157 [==============================] - 82s 523ms/step - loss: 1.0526 - accuracy: 0.6186 - val_loss: 1.3374 - val_accuracy: 0.5387\n",
      "Epoch 6/15\n",
      "157/157 [==============================] - 86s 552ms/step - loss: 0.9057 - accuracy: 0.6844 - val_loss: 1.9340 - val_accuracy: 0.5287\n",
      "Epoch 7/15\n",
      "157/157 [==============================] - 87s 553ms/step - loss: 0.7717 - accuracy: 0.7294 - val_loss: 1.5189 - val_accuracy: 0.5810\n",
      "Epoch 8/15\n",
      "157/157 [==============================] - 85s 543ms/step - loss: 0.6534 - accuracy: 0.7674 - val_loss: 2.0725 - val_accuracy: 0.5297\n",
      "Epoch 9/15\n",
      "157/157 [==============================] - 85s 544ms/step - loss: 0.5568 - accuracy: 0.8108 - val_loss: 1.9129 - val_accuracy: 0.5221\n",
      "Epoch 10/15\n",
      "157/157 [==============================] - 85s 542ms/step - loss: 0.9471 - accuracy: 0.7230 - val_loss: 2.2260 - val_accuracy: 0.2081\n",
      "Epoch 11/15\n",
      "157/157 [==============================] - 83s 532ms/step - loss: 2.0697 - accuracy: 0.2546 - val_loss: 1.7234 - val_accuracy: 0.4467\n",
      "Epoch 12/15\n",
      "157/157 [==============================] - 81s 517ms/step - loss: 0.8660 - accuracy: 0.6960 - val_loss: 1.4954 - val_accuracy: 0.5177\n",
      "Epoch 13/15\n",
      "157/157 [==============================] - 81s 518ms/step - loss: 0.5431 - accuracy: 0.8152 - val_loss: 2.0230 - val_accuracy: 0.5932\n",
      "Epoch 14/15\n",
      "157/157 [==============================] - 81s 519ms/step - loss: 0.3927 - accuracy: 0.8682 - val_loss: 3.4127 - val_accuracy: 0.4935\n",
      "Epoch 15/15\n",
      "157/157 [==============================] - 81s 520ms/step - loss: 0.3363 - accuracy: 0.8904 - val_loss: 2.5241 - val_accuracy: 0.5494\n",
      "Epoch 1/15\n",
      "157/157 [==============================] - 97s 621ms/step - loss: 0.2450 - accuracy: 0.9146 - val_loss: 2.1685 - val_accuracy: 0.5735\n",
      "Epoch 2/15\n",
      "157/157 [==============================] - 80s 511ms/step - loss: 0.2483 - accuracy: 0.9248 - val_loss: 2.6581 - val_accuracy: 0.5851\n",
      "Epoch 3/15\n",
      "157/157 [==============================] - 85s 540ms/step - loss: 0.2167 - accuracy: 0.9328 - val_loss: 3.1588 - val_accuracy: 0.5836\n",
      "Epoch 4/15\n",
      "157/157 [==============================] - 80s 513ms/step - loss: 0.1974 - accuracy: 0.9362 - val_loss: 2.7031 - val_accuracy: 0.6078\n",
      "Epoch 5/15\n",
      "157/157 [==============================] - 82s 522ms/step - loss: 0.1578 - accuracy: 0.9472 - val_loss: 2.6947 - val_accuracy: 0.6150\n",
      "Epoch 6/15\n",
      "157/157 [==============================] - 81s 520ms/step - loss: 0.3133 - accuracy: 0.9110 - val_loss: 1.6755 - val_accuracy: 0.5859\n",
      "Epoch 7/15\n",
      "157/157 [==============================] - 81s 518ms/step - loss: 0.1639 - accuracy: 0.9488 - val_loss: 2.9949 - val_accuracy: 0.4404\n",
      "Epoch 8/15\n",
      "157/157 [==============================] - 80s 508ms/step - loss: 0.1816 - accuracy: 0.9466 - val_loss: 2.6609 - val_accuracy: 0.5766\n",
      "Epoch 9/15\n",
      "157/157 [==============================] - 81s 517ms/step - loss: 0.0574 - accuracy: 0.9840 - val_loss: 3.2077 - val_accuracy: 0.6331\n",
      "Epoch 10/15\n",
      "157/157 [==============================] - 79s 506ms/step - loss: 0.0616 - accuracy: 0.9840 - val_loss: 2.7685 - val_accuracy: 0.6267\n",
      "Epoch 11/15\n",
      " 41/157 [======>.......................] - ETA: 36s - loss: 0.0331 - accuracy: 0.9909"
     ]
    }
   ],
   "source": [
    "# Set the epochs\n",
    "epochs = 15\n",
    "print('\\nFitting:')\n",
    "\n",
    "# Train the model. Batch size of 32 by default\n",
    "for chunk in range(0,num_train_sets):\n",
    "    print('\\nStarting training data chunk %d/%d' % (chunk+1,num_train_sets))\n",
    "    if chunk != num_train_sets-1:\n",
    "        range_train = range(chunk*ds_size_train,(chunk+1)*ds_size_train)\n",
    "    else:\n",
    "        range_train = range(chunk*ds_size_train,len(train_json)-1)\n",
    "    train_set, train_inst_id, _ = loadDataset(train_json,train_dir,ds_range_train)\n",
    "    \n",
    "    history = model.fit(train_set,train_inst_id, epochs=epochs,validation_data=(valid_set,valid_inst_id))\n",
    "    \n",
    "    \n"
   ]
  },
  {
   "cell_type": "code",
   "execution_count": null,
   "metadata": {},
   "outputs": [],
   "source": [
    "predicitons = model.predict(test_set)\n"
   ]
  },
  {
   "cell_type": "code",
   "execution_count": null,
   "metadata": {},
   "outputs": [],
   "source": [
    "predictions_hard_decision = tf.math.argmax(predicitons,axis=1)\n",
    "conf_matrix = tf.math.confusion_matrix(test_inst_id, predictions_hard_decision)\n",
    "conf_matrix"
   ]
  }
 ],
 "metadata": {
  "interpreter": {
   "hash": "e13a89bdd3135ce28a41dca48c6023ac7433fa988ee61e267e421f287ef387ac"
  },
  "kernelspec": {
   "display_name": "Python 3.8.0 64-bit",
   "language": "python",
   "name": "python3"
  },
  "language_info": {
   "codemirror_mode": {
    "name": "ipython",
    "version": 3
   },
   "file_extension": ".py",
   "mimetype": "text/x-python",
   "name": "python",
   "nbconvert_exporter": "python",
   "pygments_lexer": "ipython3",
   "version": "3.8.0"
  },
  "orig_nbformat": 4
 },
 "nbformat": 4,
 "nbformat_minor": 2
}
